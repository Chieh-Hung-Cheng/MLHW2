{
 "cells": [
  {
   "cell_type": "code",
   "execution_count": null,
   "outputs": [],
   "source": [
    "# IMPORTS\n",
    "# Numerical Operations\n",
    "import math\n",
    "import numpy as np\n",
    "\n",
    "# Reading/Writing Data\n",
    "import pandas as pd\n",
    "import os\n",
    "import csv\n",
    "\n",
    "# For Progress Bar\n",
    "from tqdm import tqdm\n",
    "\n",
    "# Pytorch\n",
    "import torch\n",
    "import torch.nn as nn\n",
    "from torch.utils.data import Dataset, DataLoader, random_split\n",
    "\n",
    "# For plotting learning curve\n",
    "from torch.utils.tensorboard import SummaryWriter\n",
    "\n",
    "# Other Common Modules\n",
    "from datetime import datetime, timedelta\n",
    "import importlib\n",
    "\n",
    "\n",
    "# IMPORT COMPLETE\n",
    "print(\"Imports Done\")"
   ],
   "metadata": {
    "pycharm": {
     "name": "#%%\n"
    },
    "id": "crbUty0lkxNr",
    "executionInfo": {
     "status": "ok",
     "timestamp": 1688804322042,
     "user_tz": -480,
     "elapsed": 14386,
     "user": {
      "displayName": "Chieh-Hung Cheng",
      "userId": "08338419796432546381"
     }
    },
    "outputId": "dbbe3272-9fbd-4535-a8e3-eecc37174f35",
    "colab": {
     "base_uri": "https://localhost:8080/"
    }
   }
  },
  {
   "cell_type": "code",
   "execution_count": null,
   "outputs": [],
   "source": [
    "if 'google.colab' in str(get_ipython()):\n",
    "    print('Running on CoLab')\n",
    "    timenow = datetime.now()+timedelta(hours=8)\n",
    "    from google.colab import drive\n",
    "    drive.mount('/content/drive')\n",
    "    os.chdir(\"/content/drive/MyDrive/Chronical/2023Spring/ML_drive/MLHW2\")\n",
    "else:\n",
    "    print('Running on Local')\n",
    "    timenow = datetime.now()\n",
    "\n",
    "BASE_PATH = os.getcwd()\n",
    "DATA_PATH = os.path.join(BASE_PATH, \"data\")\n",
    "SAVE_PATH = os.path.join(BASE_PATH, \".model\")\n",
    "OUTPUT_PATH = os.path.join(BASE_PATH, \"output\")\n",
    "\n",
    "if not os.path.isdir(SAVE_PATH):\n",
    "    os.mkdir(SAVE_PATH)\n",
    "if not os.path.isdir(OUTPUT_PATH):\n",
    "    os.mkdir(OUTPUT_PATH)\n",
    "\n",
    "timenow_str = f\"{timenow.hour:02d}{timenow.minute:02d}{timenow.month:02d}{timenow.day:02d}\"\n",
    "\n",
    "print(f\"{BASE_PATH=}\")\n",
    "print(f\"{DATA_PATH=}\")\n",
    "print(f\"{SAVE_PATH=}\")\n",
    "print(f\"{OUTPUT_PATH=}\")\n",
    "print(f\"{timenow=}\")\n",
    "print(f\"{timenow_str}\")"
   ],
   "metadata": {
    "pycharm": {
     "name": "#%%\n"
    },
    "colab": {
     "base_uri": "https://localhost:8080/"
    },
    "id": "WKUiaerV_LDW",
    "outputId": "e8e50333-c6af-457a-f0bc-d53c6f9a64ca"
   }
  },
  {
   "cell_type": "code",
   "execution_count": null,
   "outputs": [],
   "source": [
    "device = 'cuda' if torch.cuda.is_available() else 'cpu'\n",
    "config = {\n",
    "    \"device\": device,\n",
    "    \"seed\": 3141592,\n",
    "    \"learning_rate\": 1e-5,\n",
    "    \"epochs\": 30000,\n",
    "    \"batch_size\": 64, # larger?\n",
    "    \"valid_ratio\": 0.2,\n",
    "    \"early_stop\": 1000,\n",
    "    \"save_path\": SAVE_PATH,\n",
    "    \"output_path\": OUTPUT_PATH,\n",
    "    \"time_string\": timenow_str,\n",
    "    \"load_checkpoint\": True,\n",
    "    \"load_name\": \"17040708\"\n",
    "}\n",
    "print(f\"device: {torch.cuda.get_device_name(device)}\")"
   ],
   "metadata": {
    "pycharm": {
     "name": "#%%\n"
    },
    "id": "ApyjRSmj_LDW"
   }
  },
  {
   "cell_type": "code",
   "execution_count": null,
   "outputs": [],
   "source": [
    "# RANDOMNESS FIXED\n",
    "torch.manual_seed(config[\"seed\"])\n",
    "np.random.seed(config[\"seed\"])\n",
    "torch.backends.cudnn.deterministic = True\n",
    "torch.backends.cudnn.benchmark = False\n",
    "if torch.cuda.is_available():\n",
    "    torch.cuda.manual_seed_all(config[\"seed\"])\n",
    "\n",
    "print(\"Randomness Fixed\")"
   ],
   "metadata": {
    "pycharm": {
     "name": "#%%\n"
    },
    "id": "ynj7Rr0c_LDW"
   }
  },
  {
   "cell_type": "markdown",
   "source": [
    "# DATASET & DATALOADER"
   ],
   "metadata": {
    "collapsed": false,
    "pycharm": {
     "name": "#%% md\n"
    },
    "id": "YLEtMr7a_LDW"
   }
  },
  {
   "cell_type": "code",
   "execution_count": null,
   "outputs": [],
   "source": [
    "import SoundData\n",
    "importlib.reload(SoundData)"
   ],
   "metadata": {
    "pycharm": {
     "name": "#%%\n"
    },
    "id": "mgBqhjim_LDX"
   }
  },
  {
   "cell_type": "code",
   "execution_count": null,
   "outputs": [],
   "source": [
    "sound_data_parser = SoundData.SoundDataParser(DATA_PATH)\n",
    "train_dict = sound_data_parser.train_dict\n",
    "test_dict = sound_data_parser.test_dict\n",
    "\n",
    "print(f\"{len(train_dict)=}\")\n",
    "print(f\"{len(test_dict)=}\")"
   ],
   "metadata": {
    "pycharm": {
     "name": "#%%\n"
    },
    "id": "rblhI3l8_LDX"
   }
  },
  {
   "cell_type": "code",
   "execution_count": null,
   "outputs": [],
   "source": [
    "train_dataset = SoundData.SoundDataset(train_dict)\n",
    "test_dataset = SoundData.SoundDataset(test_dict)\n",
    "print(f\"{len(train_dataset)=}\")\n",
    "print(f\"{len(test_dataset)=}\")"
   ],
   "metadata": {
    "pycharm": {
     "name": "#%%\n"
    },
    "id": "TXXSsdoo_LDX"
   }
  },
  {
   "cell_type": "code",
   "execution_count": null,
   "outputs": [],
   "source": [
    "original_train_length = len(train_dataset)\n",
    "actual_valid_length = int(original_train_length*config[\"valid_ratio\"])\n",
    "actual_train_length = original_train_length - actual_valid_length\n",
    "train_dataset, valid_dataset = random_split(train_dataset, [actual_train_length, actual_valid_length], generator=torch.Generator().manual_seed(config[\"seed\"]))\n",
    "\n",
    "train_loader = DataLoader(train_dataset, config[\"batch_size\"], shuffle=True)\n",
    "valid_loader = DataLoader(valid_dataset, config[\"batch_size\"], shuffle=True)\n",
    "test_loader = DataLoader(test_dataset, config[\"batch_size\"], shuffle=False)"
   ],
   "metadata": {
    "pycharm": {
     "name": "#%%\n"
    },
    "id": "FDvfqqQs_LDX"
   }
  },
  {
   "cell_type": "markdown",
   "source": [
    "# Nural Network, Criteria, Optimizer"
   ],
   "metadata": {
    "collapsed": false,
    "pycharm": {
     "name": "#%% md\n"
    },
    "id": "Oz6wOWZG_LDX"
   }
  },
  {
   "cell_type": "code",
   "execution_count": null,
   "outputs": [],
   "source": [
    "import SoundNetwork\n",
    "importlib.reload(SoundNetwork)"
   ],
   "metadata": {
    "pycharm": {
     "name": "#%%\n"
    },
    "id": "3KgaRXki_LDY"
   }
  },
  {
   "cell_type": "code",
   "execution_count": null,
   "outputs": [],
   "source": [
    "model = SoundNetwork.SoundNetwork(5)\n",
    "if config[\"load_checkpoint\"]:\n",
    "    model.load_state_dict(torch.load(os.path.join(config[\"save_path\"], f\"model_{config['load_name']}.ckpt\")))\n",
    "\n",
    "model = model.to(device)\n",
    "print(f\"{model=}\")"
   ],
   "metadata": {
    "pycharm": {
     "name": "#%%\n"
    },
    "id": "w1E9uZow_LDY"
   }
  },
  {
   "cell_type": "code",
   "execution_count": null,
   "outputs": [],
   "source": [
    "criterion = nn.CrossEntropyLoss()\n",
    "optimizer = torch.optim.Adam(model.parameters(), lr=config[\"learning_rate\"])\n",
    "print(f\"{criterion=}, {optimizer=}\")"
   ],
   "metadata": {
    "pycharm": {
     "name": "#%%\n"
    },
    "id": "61KGL05T_LDY"
   }
  },
  {
   "cell_type": "markdown",
   "source": [
    "# Training"
   ],
   "metadata": {
    "collapsed": false,
    "pycharm": {
     "name": "#%% md\n"
    },
    "id": "yfjCLXMm_LDY"
   }
  },
  {
   "cell_type": "code",
   "execution_count": null,
   "outputs": [],
   "source": [
    "import Trainer\n",
    "importlib.reload(Trainer)"
   ],
   "metadata": {
    "pycharm": {
     "name": "#%%\n"
    },
    "id": "-Em3WAol_LDY"
   }
  },
  {
   "cell_type": "code",
   "execution_count": null,
   "outputs": [],
   "source": [
    "trainer = Trainer.Trainer(model, criterion, optimizer, train_loader, valid_loader, config)\n",
    "trainer.train(config[\"epochs\"])"
   ],
   "metadata": {
    "pycharm": {
     "name": "#%%\n",
     "is_executing": true
    },
    "id": "niiBNeJC_LDY"
   }
  },
  {
   "cell_type": "code",
   "execution_count": null,
   "outputs": [],
   "source": [
    "%reload_ext tensorboard\n",
    "%tensorboard --logdir=./runs/"
   ],
   "metadata": {
    "pycharm": {
     "name": "#%%\n"
    },
    "id": "KUP5264U_LDY"
   }
  },
  {
   "cell_type": "markdown",
   "source": [
    "# Inference/Test"
   ],
   "metadata": {
    "collapsed": false,
    "pycharm": {
     "name": "#%% md\n"
    },
    "id": "6IlhCfwK_LDY"
   }
  },
  {
   "cell_type": "code",
   "execution_count": null,
   "outputs": [],
   "source": [
    "import Inferencer\n",
    "importlib.reload(Inferencer)"
   ],
   "metadata": {
    "pycharm": {
     "name": "#%%\n"
    },
    "id": "lcmCIdPE_LDY"
   }
  },
  {
   "cell_type": "code",
   "execution_count": null,
   "outputs": [],
   "source": [
    "inferencer = Inferencer.Inferencer(config, SoundNetwork.SoundNetwork, config[\"load_name\"], test_loader)\n",
    "inferencer.infer()"
   ],
   "metadata": {
    "pycharm": {
     "name": "#%%\n"
    },
    "id": "ozfhZkOM_LDY"
   }
  },
  {
   "cell_type": "markdown",
   "source": [
    "# Experiments"
   ],
   "metadata": {
    "collapsed": false,
    "pycharm": {
     "name": "#%% md\n"
    },
    "id": "cZ9-SfflkxN4"
   }
  },
  {
   "cell_type": "code",
   "execution_count": null,
   "outputs": [],
   "source": [
    "import torch\n",
    "import torch.nn as nn\n",
    "import numpy as np\n",
    "x = torch.rand(4,41)\n",
    "net = nn.Softmax()\n",
    "x = net(x)\n",
    "loss_function = nn.CrossEntropyLoss()\n",
    "y = torch.randint(0, 40, (4,))\n",
    "loss_function(x,y)"
   ],
   "metadata": {
    "pycharm": {
     "name": "#%%\n"
    },
    "id": "QKSKAJ17kxN4"
   }
  }
 ],
 "metadata": {
  "kernelspec": {
   "display_name": "Python 3",
   "name": "python3"
  },
  "language_info": {
   "codemirror_mode": {
    "name": "ipython",
    "version": 2
   },
   "file_extension": ".py",
   "mimetype": "text/x-python",
   "name": "python",
   "nbconvert_exporter": "python",
   "pygments_lexer": "ipython2",
   "version": "2.7.6"
  },
  "colab": {
   "provenance": [],
   "gpuType": "T4"
  },
  "accelerator": "GPU"
 },
 "nbformat": 4,
 "nbformat_minor": 0
}